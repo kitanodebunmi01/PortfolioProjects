{
 "cells": [
  {
   "cell_type": "markdown",
   "id": "58f36e26",
   "metadata": {},
   "source": [
    "AUTOMATIC FILE SORTER IN FILE EXPLORER PYTHON GUIDED PROJECT"
   ]
  },
  {
   "cell_type": "code",
   "execution_count": 12,
   "id": "08d89723",
   "metadata": {},
   "outputs": [],
   "source": [
    "import os, shutil"
   ]
  },
  {
   "cell_type": "code",
   "execution_count": 13,
   "id": "d55585b5",
   "metadata": {},
   "outputs": [],
   "source": [
    "path = r\"C:/Users/USER/Documents/File sorter tutorial/\""
   ]
  },
  {
   "cell_type": "code",
   "execution_count": 18,
   "id": "b514559f",
   "metadata": {},
   "outputs": [],
   "source": [
    "file_name = os.listdir(path)"
   ]
  },
  {
   "cell_type": "code",
   "execution_count": 22,
   "id": "f1da56b6",
   "metadata": {},
   "outputs": [],
   "source": [
    "folder_names = [\"image files\", \"excel files\", \"video files\"]\n",
    "\n",
    "for file in range(0,3):\n",
    "    if not os.path.exists(path + folder_names[file]):\n",
    "        print (path + folder_names[file])\n",
    "        os.makedirs (path + folder_names[file])"
   ]
  },
  {
   "cell_type": "code",
   "execution_count": 21,
   "id": "19dc6aa6",
   "metadata": {},
   "outputs": [],
   "source": [
    "for file in file_name:\n",
    "    if\".jpg\" in file and not os.path.exists(path + \"image files/\" + file):\n",
    "        shutil.move(path + file, path + \"image files/\" + file)\n",
    "        \n",
    "    elif\".xlsx\" in file and not os.path.exists(path + \"excel files/\" + file):\n",
    "        shutil.move(path + file, path + \"excel files/\" + file)\n",
    "        \n",
    "    elif\".mp4\" in file and not os.path.exists(path + \"video files/\" + file):\n",
    "        shutil.move(path + file, path + \"video files/\" + file)"
   ]
  }
 ],
 "metadata": {
  "kernelspec": {
   "display_name": "Python 3 (ipykernel)",
   "language": "python",
   "name": "python3"
  },
  "language_info": {
   "codemirror_mode": {
    "name": "ipython",
    "version": 3
   },
   "file_extension": ".py",
   "mimetype": "text/x-python",
   "name": "python",
   "nbconvert_exporter": "python",
   "pygments_lexer": "ipython3",
   "version": "3.9.13"
  }
 },
 "nbformat": 4,
 "nbformat_minor": 5
}
