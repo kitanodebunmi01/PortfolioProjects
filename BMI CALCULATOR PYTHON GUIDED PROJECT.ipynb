{
 "cells": [
  {
   "cell_type": "markdown",
   "id": "8b2af7c7",
   "metadata": {},
   "source": [
    "BMI CALCULATOR PYTHON GUIDED PROJECT"
   ]
  },
  {
   "cell_type": "code",
   "execution_count": 37,
   "id": "572d9ed3",
   "metadata": {},
   "outputs": [
    {
     "name": "stdout",
     "output_type": "stream",
     "text": [
      "Enter your name: Kitan\n",
      "Enter your age: 28\n",
      "Enter your weight in pounds: 170\n",
      "Enter your height in inches: 69\n",
      "25.101869355177485\n",
      "Kitan, You are overweight, you need to lose some weight\n"
     ]
    }
   ],
   "source": [
    "name = input(\"Enter your name: \")\n",
    "\n",
    "age = input(\"Enter your age: \")\n",
    "\n",
    "weight = input(\"Enter your weight in pounds: \")\n",
    "\n",
    "height = input(\"Enter your height in inches: \")\n",
    "\n",
    "BMI = (int(weight) * 703) / (int(height) * int(height))\n",
    "\n",
    "print (BMI)\n",
    "\n",
    "if BMI < 18.5:\n",
    "    print(name +\", You are underweight. You need to gain some weight\")\n",
    "elif BMI <= 24.9:\n",
    "    print(name +\", You are normal weight. Keep it up\")\n",
    "elif BMI <=29.9:\n",
    "    print(name +\", You are overweight. You need to lose some weight\")\n",
    "elif BMI <= 34.9:\n",
    "    print(name +\", You are obese. Take drastic weight loss actions\")\n",
    "elif BMI <= 39.9:\n",
    "    print(name +\", You are severely obese. You might be reaching the point of no return\")\n",
    "elif BMI >= 40:\n",
    "    print(name +\", You are morbidly obese. OTILO!!\")\n",
    "else:\n",
    "    print(\"Enter valid inputs\")\n"
   ]
  }
 ],
 "metadata": {
  "kernelspec": {
   "display_name": "Python 3 (ipykernel)",
   "language": "python",
   "name": "python3"
  },
  "language_info": {
   "codemirror_mode": {
    "name": "ipython",
    "version": 3
   },
   "file_extension": ".py",
   "mimetype": "text/x-python",
   "name": "python",
   "nbconvert_exporter": "python",
   "pygments_lexer": "ipython3",
   "version": "3.9.13"
  }
 },
 "nbformat": 4,
 "nbformat_minor": 5
}
